{
 "cells": [
  {
   "cell_type": "markdown",
   "id": "d5c1bb12",
   "metadata": {
    "origin_pos": 1
   },
   "source": [
    "# Parameter Management\n",
    "\n",
    "Once we have chosen an architecture\n",
    "and set our hyperparameters,\n",
    "we proceed to the training loop,\n",
    "where our goal is to find parameter values\n",
    "that minimize our loss function.\n",
    "After training, we will need these parameters\n",
    "in order to make future predictions.\n",
    "Additionally, we will sometimes wish\n",
    "to extract the parameters\n",
    "perhaps to reuse them in some other context,\n",
    "to save our model to disk so that\n",
    "it may be executed in other software,\n",
    "or for examination in the hope of\n",
    "gaining scientific understanding.\n",
    "\n",
    "Most of the time, we will be able\n",
    "to ignore the nitty-gritty details\n",
    "of how parameters are declared\n",
    "and manipulated, relying on deep learning frameworks\n",
    "to do the heavy lifting.\n",
    "However, when we move away from\n",
    "stacked architectures with standard layers,\n",
    "we will sometimes need to get into the weeds\n",
    "of declaring and manipulating parameters.\n",
    "In this section, we cover the following:\n",
    "\n",
    "* Accessing parameters for debugging, diagnostics, and visualizations.\n",
    "* Sharing parameters across different model components.\n"
   ]
  },
  {
   "cell_type": "code",
   "execution_count": 45,
   "id": "28c3500f",
   "metadata": {
    "origin_pos": 3,
    "tab": [
     "pytorch"
    ]
   },
   "outputs": [],
   "source": [
    "import torch\n",
    "from torch import nn\n",
    "import torchvision\n",
    "from torchvision import transforms"
   ]
  },
  {
   "cell_type": "markdown",
   "id": "57cec4bd",
   "metadata": {
    "origin_pos": 6
   },
   "source": [
    "(**We start by focusing on an MLP with one hidden layer.**)\n"
   ]
  },
  {
   "cell_type": "code",
   "execution_count": 8,
   "id": "4a5271ed",
   "metadata": {
    "origin_pos": 8,
    "tab": [
     "pytorch"
    ]
   },
   "outputs": [
    {
     "data": {
      "text/plain": [
       "torch.Size([2, 1])"
      ]
     },
     "execution_count": 8,
     "metadata": {},
     "output_type": "execute_result"
    }
   ],
   "source": [
    "net = nn.Sequential(nn.LazyLinear(8),\n",
    "                    nn.ReLU(),\n",
    "                    nn.LazyLinear(1))\n",
    "\n",
    "X = torch.rand(size=(2, 4))\n",
    "net(X).shape"
   ]
  },
  {
   "cell_type": "markdown",
   "id": "802e1719",
   "metadata": {
    "origin_pos": 11
   },
   "source": [
    "## [**Parameter Access**]\n",
    ":label:`subsec_param-access`\n",
    "\n",
    "Let's start with how to access parameters\n",
    "from the models that you already know.\n"
   ]
  },
  {
   "cell_type": "markdown",
   "id": "730de8c2",
   "metadata": {
    "origin_pos": 12,
    "tab": [
     "pytorch"
    ]
   },
   "source": [
    "When a model is defined via the `Sequential` class,\n",
    "we can first access any layer by indexing\n",
    "into the model as though it were a list.\n",
    "Each layer's parameters are conveniently\n",
    "located in its attribute.\n"
   ]
  },
  {
   "cell_type": "markdown",
   "id": "e36298ff",
   "metadata": {
    "origin_pos": 14
   },
   "source": [
    "We can inspect the parameters of the second fully connected layer as follows.\n"
   ]
  },
  {
   "cell_type": "code",
   "execution_count": 9,
   "id": "173c1f4f",
   "metadata": {
    "origin_pos": 16,
    "tab": [
     "pytorch"
    ]
   },
   "outputs": [
    {
     "data": {
      "text/plain": [
       "OrderedDict([('weight',\n",
       "              tensor([[ 0.1319, -0.2411,  0.1723,  0.0130,  0.1349, -0.3048, -0.2249,  0.3502]])),\n",
       "             ('bias', tensor([-0.1452]))])"
      ]
     },
     "execution_count": 9,
     "metadata": {},
     "output_type": "execute_result"
    }
   ],
   "source": [
    "net[2].state_dict()"
   ]
  },
  {
   "cell_type": "markdown",
   "id": "1fbe197d",
   "metadata": {
    "origin_pos": 19
   },
   "source": [
    "We can see that this fully connected layer\n",
    "contains two parameters,\n",
    "corresponding to that layer's\n",
    "weights and biases, respectively.\n",
    "\n",
    "\n",
    "### [**Targeted Parameters**]\n",
    "\n",
    "Note that each parameter is represented\n",
    "as an instance of the parameter class.\n",
    "To do anything useful with the parameters,\n",
    "we first need to access the underlying numerical values.\n",
    "There are several ways to do this.\n",
    "Some are simpler while others are more general.\n",
    "The following code extracts the bias\n",
    "from the second neural network layer, which returns a parameter class instance, and\n",
    "further accesses that parameter's value.\n"
   ]
  },
  {
   "cell_type": "code",
   "execution_count": 10,
   "id": "490d8858",
   "metadata": {
    "origin_pos": 21,
    "tab": [
     "pytorch"
    ]
   },
   "outputs": [
    {
     "data": {
      "text/plain": [
       "(torch.nn.parameter.Parameter, tensor([-0.1452]))"
      ]
     },
     "execution_count": 10,
     "metadata": {},
     "output_type": "execute_result"
    }
   ],
   "source": [
    "type(net[2].bias), net[2].bias.data"
   ]
  },
  {
   "cell_type": "markdown",
   "id": "ab869f56",
   "metadata": {
    "origin_pos": 24,
    "tab": [
     "pytorch"
    ]
   },
   "source": [
    "Parameters are complex objects,\n",
    "containing values, gradients,\n",
    "and additional information.\n",
    "That is why we need to request the value explicitly.\n",
    "\n",
    "In addition to the value, each parameter also allows us to access the gradient. Because we have not invoked backpropagation for this network yet, it is in its initial state.\n"
   ]
  },
  {
   "cell_type": "code",
   "execution_count": 11,
   "id": "d2f52b89",
   "metadata": {
    "origin_pos": 27,
    "tab": [
     "pytorch"
    ]
   },
   "outputs": [
    {
     "data": {
      "text/plain": [
       "True"
      ]
     },
     "execution_count": 11,
     "metadata": {},
     "output_type": "execute_result"
    }
   ],
   "source": [
    "net[2].weight.grad == None"
   ]
  },
  {
   "cell_type": "markdown",
   "id": "d7cad27b",
   "metadata": {
    "origin_pos": 28
   },
   "source": [
    "### [**All Parameters at Once**]\n",
    "\n",
    "When we need to perform operations on all parameters,\n",
    "accessing them one-by-one can grow tedious.\n",
    "The situation can grow especially unwieldy\n",
    "when we work with more complex, e.g., nested, modules,\n",
    "since we would need to recurse\n",
    "through the entire tree to extract\n",
    "each sub-module's parameters. Below we demonstrate accessing the parameters of all layers.\n"
   ]
  },
  {
   "cell_type": "code",
   "execution_count": 12,
   "id": "d9e7339f",
   "metadata": {
    "origin_pos": 30,
    "tab": [
     "pytorch"
    ]
   },
   "outputs": [
    {
     "data": {
      "text/plain": [
       "[('0.weight', torch.Size([8, 4])),\n",
       " ('0.bias', torch.Size([8])),\n",
       " ('2.weight', torch.Size([1, 8])),\n",
       " ('2.bias', torch.Size([1]))]"
      ]
     },
     "execution_count": 12,
     "metadata": {},
     "output_type": "execute_result"
    }
   ],
   "source": [
    "[(name, param.shape) for name, param in net.named_parameters()]"
   ]
  },
  {
   "cell_type": "markdown",
   "id": "b39139ed",
   "metadata": {
    "origin_pos": 33
   },
   "source": [
    "## [**Tied Parameters**]\n",
    "\n",
    "Often, we want to share parameters across multiple layers.\n",
    "Let's see how to do this elegantly.\n",
    "In the following we allocate a fully connected layer\n",
    "and then use its parameters specifically\n",
    "to set those of another layer.\n",
    "Here we need to run the forward propagation\n",
    "`net(X)` before accessing the parameters.\n"
   ]
  },
  {
   "cell_type": "code",
   "execution_count": 13,
   "id": "3468f1ab",
   "metadata": {
    "origin_pos": 35,
    "tab": [
     "pytorch"
    ]
   },
   "outputs": [
    {
     "name": "stdout",
     "output_type": "stream",
     "text": [
      "tensor([True, True, True, True, True, True, True, True])\n",
      "tensor([True, True, True, True, True, True, True, True])\n"
     ]
    }
   ],
   "source": [
    "# We need to give the shared layer a name so that we can refer to its\n",
    "# parameters\n",
    "shared = nn.LazyLinear(8)\n",
    "net = nn.Sequential(nn.LazyLinear(8), nn.ReLU(),\n",
    "                    shared, nn.ReLU(),\n",
    "                    shared, nn.ReLU(),\n",
    "                    nn.LazyLinear(1))\n",
    "\n",
    "net(X)\n",
    "# Check whether the parameters are the same\n",
    "print(net[2].weight.data[0] == net[4].weight.data[0])\n",
    "net[2].weight.data[0, 0] = 100\n",
    "# Make sure that they are actually the same object rather than just having the\n",
    "# same value\n",
    "print(net[2].weight.data[0] == net[4].weight.data[0])"
   ]
  },
  {
   "cell_type": "markdown",
   "id": "39c8abad",
   "metadata": {
    "origin_pos": 38
   },
   "source": [
    "This example shows that the parameters\n",
    "of the second and third layer are tied.\n",
    "They are not just equal, they are\n",
    "represented by the same exact tensor.\n",
    "Thus, if we change one of the parameters,\n",
    "the other one changes, too.\n"
   ]
  },
  {
   "cell_type": "markdown",
   "id": "25614d48",
   "metadata": {
    "origin_pos": 39,
    "tab": [
     "pytorch"
    ]
   },
   "source": [
    "You might wonder,\n",
    "when parameters are tied\n",
    "what happens to the gradients?\n",
    "Since the model parameters contain gradients,\n",
    "the gradients of the second hidden layer\n",
    "and the third hidden layer are added together\n",
    "during backpropagation.\n"
   ]
  },
  {
   "cell_type": "markdown",
   "id": "ed8cfd06",
   "metadata": {
    "origin_pos": 40
   },
   "source": [
    "## Summary\n",
    "\n",
    "We have several ways of accessing and tying model parameters.\n",
    "\n",
    "\n",
    "## Exercises\n",
    "\n",
    "1. Use the `NestMLP` model defined in :numref:`sec_model_construction` and access the parameters of the various layers.\n",
    "1. Construct an MLP containing a shared parameter layer and train it. During the training process, observe the model parameters and gradients of each layer.\n",
    "1. Why is sharing parameters a good idea?\n"
   ]
  },
  {
   "cell_type": "code",
   "execution_count": 30,
   "id": "4697d9cc-0463-455e-9baa-80d42881eec1",
   "metadata": {},
   "outputs": [
    {
     "data": {
      "text/plain": [
       "[('hidden.0.weight', torch.Size([64, 4])),\n",
       " ('hidden.0.bias', torch.Size([64])),\n",
       " ('hidden.2.weight', torch.Size([32, 64])),\n",
       " ('hidden.2.bias', torch.Size([32])),\n",
       " ('out.weight', torch.Size([16, 32])),\n",
       " ('out.bias', torch.Size([16]))]"
      ]
     },
     "execution_count": 30,
     "metadata": {},
     "output_type": "execute_result"
    }
   ],
   "source": [
    "X = torch.rand((2,4))\n",
    "class NestMLP(nn.Module):\n",
    "    def __init__(self):\n",
    "        super().__init__()\n",
    "        self.hidden = nn.Sequential(nn.LazyLinear(64), nn.ReLU(), nn.LazyLinear(32), nn.ReLU())\n",
    "        self.out = nn.LazyLinear(16)\n",
    "\n",
    "    def forward(self, X):\n",
    "        return self.out(self.hidden(X))\\\n",
    "        \n",
    "net = NestMLP()\n",
    "net(X)\n",
    "[(name, param.shape) for name, param in net.named_parameters()]"
   ]
  },
  {
   "cell_type": "code",
   "execution_count": 88,
   "id": "c1f3668b-b3bd-480f-9bb3-e254a90cfe4e",
   "metadata": {},
   "outputs": [],
   "source": [
    "shared = nn.Linear(16, 16)\n",
    "shared_net = nn.Sequential(nn.Flatten(), nn.LazyLinear(16), nn.ReLU(), shared, nn.ReLU(), shared, nn.ReLU(), nn.Linear(16,10))\n",
    "trans = transforms.Compose([transforms.Resize((28,28)), transforms.ToTensor()])\n",
    "train = torchvision.datasets.FashionMNIST(root = '../data', transform = trans)\n",
    "val = torchvision.datasets.FashionMNIST(root = '../data', train=False, transform = trans)\n",
    "training_loader = torch.utils.data.DataLoader(train, batch_size=4, shuffle=True)\n",
    "validation_loader = torch.utils.data.DataLoader(val, batch_size=4, shuffle=False)\n",
    "loss_fn = nn.CrossEntropyLoss()\n",
    "optimizer = torch.optim.SGD(shared_net.parameters(), lr = 0.001, momentum = 0.9)\n",
    "\n",
    "def train_one_epoch(): \n",
    "    loss = 0\n",
    "    loss_per_batch = 0.\n",
    "    for i, data in enumerate(training_loader):\n",
    "        optimizer.zero_grad()\n",
    "        inputs, labels  = data\n",
    "        y = shared_net(inputs)\n",
    "        loss = loss_fn(y, labels)\n",
    "        loss.backward()\n",
    "        optimizer.step()\n",
    "        loss_per_batch += loss\n",
    "        if i % 1000 == 999:\n",
    "            print(\"batch:\", i, \"loss_per_batch:\", loss_per_batch/1000)\n",
    "            loss_per_batch = 0\n",
    "    return loss"
   ]
  },
  {
   "cell_type": "code",
   "execution_count": 89,
   "id": "fe105aa8-c2d7-48f6-9f5a-c770da12c276",
   "metadata": {},
   "outputs": [
    {
     "name": "stdout",
     "output_type": "stream",
     "text": [
      "EPOCH 0\n",
      "batch: 999 loss_per_batch: tensor(1.9159, grad_fn=<DivBackward0>)\n",
      "batch: 1999 loss_per_batch: tensor(1.0555, grad_fn=<DivBackward0>)\n",
      "batch: 2999 loss_per_batch: tensor(0.7976, grad_fn=<DivBackward0>)\n",
      "batch: 3999 loss_per_batch: tensor(0.7371, grad_fn=<DivBackward0>)\n",
      "batch: 4999 loss_per_batch: tensor(0.6425, grad_fn=<DivBackward0>)\n",
      "batch: 5999 loss_per_batch: tensor(0.6510, grad_fn=<DivBackward0>)\n",
      "batch: 6999 loss_per_batch: tensor(0.6180, grad_fn=<DivBackward0>)\n",
      "batch: 7999 loss_per_batch: tensor(0.5586, grad_fn=<DivBackward0>)\n",
      "batch: 8999 loss_per_batch: tensor(0.5954, grad_fn=<DivBackward0>)\n",
      "batch: 9999 loss_per_batch: tensor(0.5551, grad_fn=<DivBackward0>)\n",
      "batch: 10999 loss_per_batch: tensor(0.5508, grad_fn=<DivBackward0>)\n",
      "batch: 11999 loss_per_batch: tensor(0.4888, grad_fn=<DivBackward0>)\n",
      "batch: 12999 loss_per_batch: tensor(0.4988, grad_fn=<DivBackward0>)\n",
      "batch: 13999 loss_per_batch: tensor(0.5232, grad_fn=<DivBackward0>)\n",
      "batch: 14999 loss_per_batch: tensor(0.4943, grad_fn=<DivBackward0>)\n",
      "LOSS train: tensor(0.2737, grad_fn=<NllLossBackward0>) val: tensor(0.5496)\n",
      "EPOCH 1\n",
      "batch: 999 loss_per_batch: tensor(0.4826, grad_fn=<DivBackward0>)\n",
      "batch: 1999 loss_per_batch: tensor(0.5069, grad_fn=<DivBackward0>)\n",
      "batch: 2999 loss_per_batch: tensor(0.4796, grad_fn=<DivBackward0>)\n",
      "batch: 3999 loss_per_batch: tensor(0.4767, grad_fn=<DivBackward0>)\n",
      "batch: 4999 loss_per_batch: tensor(0.4394, grad_fn=<DivBackward0>)\n",
      "batch: 5999 loss_per_batch: tensor(0.4715, grad_fn=<DivBackward0>)\n",
      "batch: 6999 loss_per_batch: tensor(0.4532, grad_fn=<DivBackward0>)\n",
      "batch: 7999 loss_per_batch: tensor(0.4753, grad_fn=<DivBackward0>)\n",
      "batch: 8999 loss_per_batch: tensor(0.4461, grad_fn=<DivBackward0>)\n",
      "batch: 9999 loss_per_batch: tensor(0.4564, grad_fn=<DivBackward0>)\n",
      "batch: 10999 loss_per_batch: tensor(0.4542, grad_fn=<DivBackward0>)\n",
      "batch: 11999 loss_per_batch: tensor(0.4584, grad_fn=<DivBackward0>)\n",
      "batch: 12999 loss_per_batch: tensor(0.4387, grad_fn=<DivBackward0>)\n",
      "batch: 13999 loss_per_batch: tensor(0.4259, grad_fn=<DivBackward0>)\n",
      "batch: 14999 loss_per_batch: tensor(0.4539, grad_fn=<DivBackward0>)\n",
      "LOSS train: tensor(0.2542, grad_fn=<NllLossBackward0>) val: tensor(0.4534)\n",
      "EPOCH 2\n",
      "batch: 999 loss_per_batch: tensor(0.4254, grad_fn=<DivBackward0>)\n",
      "batch: 1999 loss_per_batch: tensor(0.4251, grad_fn=<DivBackward0>)\n",
      "batch: 2999 loss_per_batch: tensor(0.4329, grad_fn=<DivBackward0>)\n",
      "batch: 3999 loss_per_batch: tensor(0.4195, grad_fn=<DivBackward0>)\n",
      "batch: 4999 loss_per_batch: tensor(0.4587, grad_fn=<DivBackward0>)\n",
      "batch: 5999 loss_per_batch: tensor(0.4507, grad_fn=<DivBackward0>)\n",
      "batch: 6999 loss_per_batch: tensor(0.4036, grad_fn=<DivBackward0>)\n",
      "batch: 7999 loss_per_batch: tensor(0.4338, grad_fn=<DivBackward0>)\n",
      "batch: 8999 loss_per_batch: tensor(0.4293, grad_fn=<DivBackward0>)\n",
      "batch: 9999 loss_per_batch: tensor(0.4200, grad_fn=<DivBackward0>)\n",
      "batch: 10999 loss_per_batch: tensor(0.4076, grad_fn=<DivBackward0>)\n",
      "batch: 11999 loss_per_batch: tensor(0.4317, grad_fn=<DivBackward0>)\n",
      "batch: 12999 loss_per_batch: tensor(0.4179, grad_fn=<DivBackward0>)\n",
      "batch: 13999 loss_per_batch: tensor(0.4110, grad_fn=<DivBackward0>)\n",
      "batch: 14999 loss_per_batch: tensor(0.4074, grad_fn=<DivBackward0>)\n",
      "LOSS train: tensor(0.0939, grad_fn=<NllLossBackward0>) val: tensor(0.4445)\n",
      "EPOCH 3\n",
      "batch: 999 loss_per_batch: tensor(0.4007, grad_fn=<DivBackward0>)\n",
      "batch: 1999 loss_per_batch: tensor(0.3984, grad_fn=<DivBackward0>)\n",
      "batch: 2999 loss_per_batch: tensor(0.3790, grad_fn=<DivBackward0>)\n",
      "batch: 3999 loss_per_batch: tensor(0.3887, grad_fn=<DivBackward0>)\n",
      "batch: 4999 loss_per_batch: tensor(0.4227, grad_fn=<DivBackward0>)\n",
      "batch: 5999 loss_per_batch: tensor(0.4165, grad_fn=<DivBackward0>)\n",
      "batch: 6999 loss_per_batch: tensor(0.4155, grad_fn=<DivBackward0>)\n",
      "batch: 7999 loss_per_batch: tensor(0.4396, grad_fn=<DivBackward0>)\n",
      "batch: 8999 loss_per_batch: tensor(0.3957, grad_fn=<DivBackward0>)\n",
      "batch: 9999 loss_per_batch: tensor(0.4051, grad_fn=<DivBackward0>)\n",
      "batch: 10999 loss_per_batch: tensor(0.4142, grad_fn=<DivBackward0>)\n",
      "batch: 11999 loss_per_batch: tensor(0.3953, grad_fn=<DivBackward0>)\n",
      "batch: 12999 loss_per_batch: tensor(0.4290, grad_fn=<DivBackward0>)\n",
      "batch: 13999 loss_per_batch: tensor(0.3895, grad_fn=<DivBackward0>)\n",
      "batch: 14999 loss_per_batch: tensor(0.4063, grad_fn=<DivBackward0>)\n",
      "LOSS train: tensor(0.0149, grad_fn=<NllLossBackward0>) val: tensor(0.4253)\n",
      "EPOCH 4\n",
      "batch: 999 loss_per_batch: tensor(0.3969, grad_fn=<DivBackward0>)\n",
      "batch: 1999 loss_per_batch: tensor(0.4010, grad_fn=<DivBackward0>)\n",
      "batch: 2999 loss_per_batch: tensor(0.3801, grad_fn=<DivBackward0>)\n",
      "batch: 3999 loss_per_batch: tensor(0.3784, grad_fn=<DivBackward0>)\n",
      "batch: 4999 loss_per_batch: tensor(0.3942, grad_fn=<DivBackward0>)\n",
      "batch: 5999 loss_per_batch: tensor(0.4012, grad_fn=<DivBackward0>)\n",
      "batch: 6999 loss_per_batch: tensor(0.4157, grad_fn=<DivBackward0>)\n",
      "batch: 7999 loss_per_batch: tensor(0.4018, grad_fn=<DivBackward0>)\n",
      "batch: 8999 loss_per_batch: tensor(0.3753, grad_fn=<DivBackward0>)\n",
      "batch: 9999 loss_per_batch: tensor(0.3866, grad_fn=<DivBackward0>)\n",
      "batch: 10999 loss_per_batch: tensor(0.3885, grad_fn=<DivBackward0>)\n",
      "batch: 11999 loss_per_batch: tensor(0.3837, grad_fn=<DivBackward0>)\n",
      "batch: 12999 loss_per_batch: tensor(0.3856, grad_fn=<DivBackward0>)\n",
      "batch: 13999 loss_per_batch: tensor(0.3955, grad_fn=<DivBackward0>)\n",
      "batch: 14999 loss_per_batch: tensor(0.4047, grad_fn=<DivBackward0>)\n",
      "LOSS train: tensor(0.1948, grad_fn=<NllLossBackward0>) val: tensor(0.4225)\n"
     ]
    }
   ],
   "source": [
    "epochs = 5\n",
    "for i in range(epochs):\n",
    "    print(\"EPOCH\", i)\n",
    "    shared_net.train(True)\n",
    "    cur_loss = train_one_epoch()\n",
    "\n",
    "    shared_net.eval()\n",
    "    running_vloss = 0.\n",
    "    with torch.no_grad():\n",
    "        for i, vdata in enumerate(validation_loader):\n",
    "            vinputs, vlabels = vdata\n",
    "            voutputs = shared_net(vinputs)\n",
    "            vloss = loss_fn(voutputs, vlabels)\n",
    "            running_vloss += vloss\n",
    "\n",
    "    avg_vloss = running_vloss / (i + 1)\n",
    "    print(\"LOSS train:\", cur_loss, \"val:\", avg_vloss)\n"
   ]
  },
  {
   "cell_type": "markdown",
   "id": "22a404f5",
   "metadata": {
    "origin_pos": 42,
    "tab": [
     "pytorch"
    ]
   },
   "source": [
    "[Discussions](https://discuss.d2l.ai/t/57)\n"
   ]
  }
 ],
 "metadata": {
  "kernelspec": {
   "display_name": "Python 3 (ipykernel)",
   "language": "python",
   "name": "python3"
  },
  "language_info": {
   "codemirror_mode": {
    "name": "ipython",
    "version": 3
   },
   "file_extension": ".py",
   "mimetype": "text/x-python",
   "name": "python",
   "nbconvert_exporter": "python",
   "pygments_lexer": "ipython3",
   "version": "3.9.18"
  },
  "required_libs": []
 },
 "nbformat": 4,
 "nbformat_minor": 5
}
